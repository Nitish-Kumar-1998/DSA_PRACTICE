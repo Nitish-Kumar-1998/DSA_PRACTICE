{
 "cells": [
  {
   "cell_type": "markdown",
   "id": "a59fcbb5",
   "metadata": {},
   "source": [
    "### Here I practice the codes of Dsa and general codes  and see their behaviors "
   ]
  },
  {
   "cell_type": "code",
   "execution_count": 3,
   "id": "ac7d4a06",
   "metadata": {},
   "outputs": [
    {
     "name": "stdout",
     "output_type": "stream",
     "text": [
      "0\n",
      "1\n",
      "2\n",
      "3\n",
      "4\n",
      "0\n",
      "-1\n",
      "-2\n",
      "-3\n",
      "-4\n",
      "0\n"
     ]
    }
   ],
   "source": [
    "def forloop(n):\n",
    "    for i in range(n):\n",
    "        print(i)\n",
    "    for j in range(n):\n",
    "        print(-j)    \n",
    "\n",
    "forloop(5)\n",
    "\n",
    "print(-0)\n",
    "\n",
    "#Conclusion\n",
    "# so in short the print(-0) prints the value 0 not -0 "
   ]
  },
  {
   "cell_type": "code",
   "execution_count": 19,
   "id": "a3f5170b",
   "metadata": {},
   "outputs": [
    {
     "name": "stdout",
     "output_type": "stream",
     "text": [
      "10 times now \n",
      "entring in y\n",
      "10230\n"
     ]
    }
   ],
   "source": [
    "# how many times print executes\n",
    "\n",
    "import sys\n",
    "sys.setrecursionlimit(20000)\n",
    "\n",
    "# By default python has a recursion limit that only executes it for 1000 times \n",
    "# we can set recursion limit as above code \n",
    "\n",
    "c = 0\n",
    "def count(x,y):\n",
    "    global c\n",
    "    if (y != 1):\n",
    "        if (x != 1):\n",
    "            c += 1\n",
    "\n",
    "            # debugging here \n",
    "            if c ==10:\n",
    "                print(\"10 times now \")\n",
    "            count(x//2, y)    \n",
    "        else:\n",
    "            if y == 1024:\n",
    "                print(\"entring in y\")\n",
    "            y = y - 1\n",
    "            count(1024, y) \n",
    "    return c        \n",
    "count(1024,1024)\n",
    "print(c)"
   ]
  }
 ],
 "metadata": {
  "kernelspec": {
   "display_name": "Python 3",
   "language": "python",
   "name": "python3"
  },
  "language_info": {
   "codemirror_mode": {
    "name": "ipython",
    "version": 3
   },
   "file_extension": ".py",
   "mimetype": "text/x-python",
   "name": "python",
   "nbconvert_exporter": "python",
   "pygments_lexer": "ipython3",
   "version": "3.12.2"
  }
 },
 "nbformat": 4,
 "nbformat_minor": 5
}
